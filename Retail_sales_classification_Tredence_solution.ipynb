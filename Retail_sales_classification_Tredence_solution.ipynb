{
 "cells": [
  {
   "cell_type": "markdown",
   "metadata": {},
   "source": [
    "## Problem Statement\n",
    "\n",
    "This retail sales dataset is created to predict the likelihood of a purchase being completed, given the customer and product features. "
   ]
  },
  {
   "cell_type": "markdown",
   "metadata": {},
   "source": [
    "<a id=\"lib\"></a>\n",
    "# Import Libraries"
   ]
  },
  {
   "cell_type": "code",
   "execution_count": 1,
   "metadata": {},
   "outputs": [],
   "source": [
    "# import 'Pandas' \n",
    "import pandas as pd \n",
    "\n",
    "# import 'Numpy' \n",
    "import numpy as np\n",
    "\n",
    "# import subpackage of Matplotlib\n",
    "import matplotlib.pyplot as plt\n",
    "from matplotlib.colors import ListedColormap\n",
    "\n",
    "# import 'Seaborn' \n",
    "import seaborn as sns\n",
    "\n",
    "# to suppress warnings \n",
    "from warnings import filterwarnings\n",
    "filterwarnings('ignore')\n",
    "\n",
    "# display all columns of the dataframe\n",
    "pd.options.display.max_columns = None\n",
    "\n",
    "# display all rows of the dataframe\n",
    "pd.options.display.max_rows = None\n",
    " \n",
    "# to display the float values upto 6 decimal places     \n",
    "pd.options.display.float_format = '{:.6f}'.format\n",
    "\n",
    "# import train-test split \n",
    "from sklearn.model_selection import train_test_split\n",
    "\n",
    "# import various functions from statsmodels\n",
    "import statsmodels\n",
    "import statsmodels.api as sm\n",
    "\n",
    "# import StandardScaler to perform scaling\n",
    "from sklearn.preprocessing import StandardScaler \n",
    "\n",
    "# import various functions from sklearn \n",
    "from sklearn import metrics\n",
    "from sklearn.linear_model import LogisticRegression\n",
    "from sklearn.metrics import classification_report\n",
    "from sklearn.metrics import confusion_matrix\n",
    "from sklearn.metrics import roc_curve\n",
    "from sklearn.metrics import accuracy_score\n",
    "from sklearn.preprocessing import LabelEncoder, OneHotEncoder, StandardScaler"
   ]
  },
  {
   "cell_type": "code",
   "execution_count": 2,
   "metadata": {},
   "outputs": [],
   "source": [
    "# set the plot size using 'rcParams'\n",
    "plt.rcParams['figure.figsize'] = [15,8]"
   ]
  },
  {
   "cell_type": "markdown",
   "metadata": {},
   "source": [
    "<a id=\"prep\"></a>\n",
    "# Data Preparation"
   ]
  },
  {
   "cell_type": "code",
   "execution_count": 3,
   "metadata": {},
   "outputs": [
    {
     "data": {
      "text/html": [
       "<div>\n",
       "<style scoped>\n",
       "    .dataframe tbody tr th:only-of-type {\n",
       "        vertical-align: middle;\n",
       "    }\n",
       "\n",
       "    .dataframe tbody tr th {\n",
       "        vertical-align: top;\n",
       "    }\n",
       "\n",
       "    .dataframe thead th {\n",
       "        text-align: right;\n",
       "    }\n",
       "</style>\n",
       "<table border=\"1\" class=\"dataframe\">\n",
       "  <thead>\n",
       "    <tr style=\"text-align: right;\">\n",
       "      <th></th>\n",
       "      <th>Customer ID</th>\n",
       "      <th>Age</th>\n",
       "      <th>Gender</th>\n",
       "      <th>Loyalty Member</th>\n",
       "      <th>Product Type</th>\n",
       "      <th>SKU</th>\n",
       "      <th>Rating</th>\n",
       "      <th>Payment Method</th>\n",
       "      <th>Total Price</th>\n",
       "      <th>Unit Price</th>\n",
       "      <th>Quantity</th>\n",
       "      <th>Purchase Date</th>\n",
       "      <th>Shipping Type</th>\n",
       "      <th>Add-ons Purchased</th>\n",
       "      <th>Add-on Total</th>\n",
       "      <th>Order Status</th>\n",
       "    </tr>\n",
       "  </thead>\n",
       "  <tbody>\n",
       "    <tr>\n",
       "      <th>0</th>\n",
       "      <td>1000</td>\n",
       "      <td>53</td>\n",
       "      <td>Male</td>\n",
       "      <td>No</td>\n",
       "      <td>Smartphone</td>\n",
       "      <td>SKU1004</td>\n",
       "      <td>2</td>\n",
       "      <td>Credit Card</td>\n",
       "      <td>5538.330000</td>\n",
       "      <td>791.190000</td>\n",
       "      <td>7</td>\n",
       "      <td>20-03-2024</td>\n",
       "      <td>Standard</td>\n",
       "      <td>Accessory,Accessory,Accessory</td>\n",
       "      <td>40.210000</td>\n",
       "      <td>Cancelled</td>\n",
       "    </tr>\n",
       "    <tr>\n",
       "      <th>1</th>\n",
       "      <td>1000</td>\n",
       "      <td>53</td>\n",
       "      <td>Male</td>\n",
       "      <td>No</td>\n",
       "      <td>Tablet</td>\n",
       "      <td>SKU1002</td>\n",
       "      <td>3</td>\n",
       "      <td>Paypal</td>\n",
       "      <td>741.090000</td>\n",
       "      <td>247.030000</td>\n",
       "      <td>3</td>\n",
       "      <td>20-04-2024</td>\n",
       "      <td>Overnight</td>\n",
       "      <td>Impulse Item</td>\n",
       "      <td>26.090000</td>\n",
       "      <td>Completed</td>\n",
       "    </tr>\n",
       "    <tr>\n",
       "      <th>2</th>\n",
       "      <td>1002</td>\n",
       "      <td>41</td>\n",
       "      <td>Male</td>\n",
       "      <td>No</td>\n",
       "      <td>Laptop</td>\n",
       "      <td>SKU1005</td>\n",
       "      <td>3</td>\n",
       "      <td>Credit Card</td>\n",
       "      <td>1855.840000</td>\n",
       "      <td>463.960000</td>\n",
       "      <td>4</td>\n",
       "      <td>17-10-2023</td>\n",
       "      <td>Express</td>\n",
       "      <td>NaN</td>\n",
       "      <td>0.000000</td>\n",
       "      <td>Completed</td>\n",
       "    </tr>\n",
       "    <tr>\n",
       "      <th>3</th>\n",
       "      <td>1002</td>\n",
       "      <td>41</td>\n",
       "      <td>Male</td>\n",
       "      <td>Yes</td>\n",
       "      <td>Smartphone</td>\n",
       "      <td>SKU1004</td>\n",
       "      <td>2</td>\n",
       "      <td>Cash</td>\n",
       "      <td>3164.760000</td>\n",
       "      <td>791.190000</td>\n",
       "      <td>4</td>\n",
       "      <td>08-09-2024</td>\n",
       "      <td>Overnight</td>\n",
       "      <td>Impulse Item,Impulse Item</td>\n",
       "      <td>60.160000</td>\n",
       "      <td>Completed</td>\n",
       "    </tr>\n",
       "    <tr>\n",
       "      <th>4</th>\n",
       "      <td>1003</td>\n",
       "      <td>75</td>\n",
       "      <td>Male</td>\n",
       "      <td>Yes</td>\n",
       "      <td>Smartphone</td>\n",
       "      <td>SKU1001</td>\n",
       "      <td>5</td>\n",
       "      <td>Cash</td>\n",
       "      <td>41.500000</td>\n",
       "      <td>20.750000</td>\n",
       "      <td>2</td>\n",
       "      <td>21-05-2024</td>\n",
       "      <td>Express</td>\n",
       "      <td>Accessory</td>\n",
       "      <td>35.560000</td>\n",
       "      <td>Completed</td>\n",
       "    </tr>\n",
       "  </tbody>\n",
       "</table>\n",
       "</div>"
      ],
      "text/plain": [
       "   Customer ID  Age Gender Loyalty Member Product Type      SKU  Rating  \\\n",
       "0         1000   53   Male             No   Smartphone  SKU1004       2   \n",
       "1         1000   53   Male             No       Tablet  SKU1002       3   \n",
       "2         1002   41   Male             No       Laptop  SKU1005       3   \n",
       "3         1002   41   Male            Yes   Smartphone  SKU1004       2   \n",
       "4         1003   75   Male            Yes   Smartphone  SKU1001       5   \n",
       "\n",
       "  Payment Method  Total Price  Unit Price  Quantity Purchase Date  \\\n",
       "0    Credit Card  5538.330000  791.190000         7    20-03-2024   \n",
       "1         Paypal   741.090000  247.030000         3    20-04-2024   \n",
       "2    Credit Card  1855.840000  463.960000         4    17-10-2023   \n",
       "3           Cash  3164.760000  791.190000         4    08-09-2024   \n",
       "4           Cash    41.500000   20.750000         2    21-05-2024   \n",
       "\n",
       "  Shipping Type              Add-ons Purchased  Add-on Total Order Status  \n",
       "0      Standard  Accessory,Accessory,Accessory     40.210000    Cancelled  \n",
       "1     Overnight                   Impulse Item     26.090000    Completed  \n",
       "2       Express                            NaN      0.000000    Completed  \n",
       "3     Overnight      Impulse Item,Impulse Item     60.160000    Completed  \n",
       "4       Express                      Accessory     35.560000    Completed  "
      ]
     },
     "execution_count": 3,
     "metadata": {},
     "output_type": "execute_result"
    }
   ],
   "source": [
    "# load the csv file\n",
    "def read_dataset (data): \n",
    "  df_sales = pd.read_csv(data)\n",
    "  return df_sales\n",
    "path = \"retail_sales.csv\"\n",
    "df_sales = read_dataset(path)\n",
    "df_sales.head()"
   ]
  },
  {
   "cell_type": "code",
   "execution_count": 4,
   "metadata": {},
   "outputs": [
    {
     "name": "stdout",
     "output_type": "stream",
     "text": [
      "(20000, 16)\n"
     ]
    }
   ],
   "source": [
    "# use 'shape' to check the dimension of data\n",
    "def df_shape(df_sales):\n",
    "    sh = df_sales.shape\n",
    "    return sh \n",
    "df_shape = df_shape(df_sales)\n",
    "print(df_shape)"
   ]
  },
  {
   "cell_type": "markdown",
   "metadata": {},
   "source": [
    "<a id=\"dtype\"></a>\n",
    "## Check the Data Type"
   ]
  },
  {
   "cell_type": "code",
   "execution_count": 5,
   "metadata": {},
   "outputs": [
    {
     "name": "stdout",
     "output_type": "stream",
     "text": [
      "Customer ID            int64\n",
      "Age                    int64\n",
      "Gender                object\n",
      "Loyalty Member        object\n",
      "Product Type          object\n",
      "SKU                   object\n",
      "Rating                 int64\n",
      "Payment Method        object\n",
      "Total Price          float64\n",
      "Unit Price           float64\n",
      "Quantity               int64\n",
      "Purchase Date         object\n",
      "Shipping Type         object\n",
      "Add-ons Purchased     object\n",
      "Add-on Total         float64\n",
      "Order Status          object\n",
      "dtype: object\n"
     ]
    }
   ],
   "source": [
    "# use 'dtypes' to check the data type of a variable\n",
    "# use 'shape' to check the dimension of data\n",
    "def df_dtypes(df_sales):\n",
    "    sh = df_sales.dtypes\n",
    "    return sh \n",
    "df_dtypes = df_dtypes(df_sales)\n",
    "print(df_dtypes)"
   ]
  },
  {
   "cell_type": "markdown",
   "metadata": {},
   "source": [
    "<a id=\"drop\"></a>\n",
    "## Remove Insignificant Variables"
   ]
  },
  {
   "cell_type": "code",
   "execution_count": 6,
   "metadata": {},
   "outputs": [
    {
     "data": {
      "text/html": [
       "<div>\n",
       "<style scoped>\n",
       "    .dataframe tbody tr th:only-of-type {\n",
       "        vertical-align: middle;\n",
       "    }\n",
       "\n",
       "    .dataframe tbody tr th {\n",
       "        vertical-align: top;\n",
       "    }\n",
       "\n",
       "    .dataframe thead th {\n",
       "        text-align: right;\n",
       "    }\n",
       "</style>\n",
       "<table border=\"1\" class=\"dataframe\">\n",
       "  <thead>\n",
       "    <tr style=\"text-align: right;\">\n",
       "      <th></th>\n",
       "      <th>Age</th>\n",
       "      <th>Gender</th>\n",
       "      <th>Loyalty Member</th>\n",
       "      <th>Product Type</th>\n",
       "      <th>Rating</th>\n",
       "      <th>Payment Method</th>\n",
       "      <th>Total Price</th>\n",
       "      <th>Quantity</th>\n",
       "      <th>Shipping Type</th>\n",
       "      <th>Add-ons Purchased</th>\n",
       "      <th>Add-on Total</th>\n",
       "      <th>Order Status</th>\n",
       "    </tr>\n",
       "  </thead>\n",
       "  <tbody>\n",
       "    <tr>\n",
       "      <th>0</th>\n",
       "      <td>53</td>\n",
       "      <td>Male</td>\n",
       "      <td>No</td>\n",
       "      <td>Smartphone</td>\n",
       "      <td>2</td>\n",
       "      <td>Credit Card</td>\n",
       "      <td>5538.330000</td>\n",
       "      <td>7</td>\n",
       "      <td>Standard</td>\n",
       "      <td>Accessory,Accessory,Accessory</td>\n",
       "      <td>40.210000</td>\n",
       "      <td>Cancelled</td>\n",
       "    </tr>\n",
       "    <tr>\n",
       "      <th>1</th>\n",
       "      <td>53</td>\n",
       "      <td>Male</td>\n",
       "      <td>No</td>\n",
       "      <td>Tablet</td>\n",
       "      <td>3</td>\n",
       "      <td>Paypal</td>\n",
       "      <td>741.090000</td>\n",
       "      <td>3</td>\n",
       "      <td>Overnight</td>\n",
       "      <td>Impulse Item</td>\n",
       "      <td>26.090000</td>\n",
       "      <td>Completed</td>\n",
       "    </tr>\n",
       "    <tr>\n",
       "      <th>2</th>\n",
       "      <td>41</td>\n",
       "      <td>Male</td>\n",
       "      <td>No</td>\n",
       "      <td>Laptop</td>\n",
       "      <td>3</td>\n",
       "      <td>Credit Card</td>\n",
       "      <td>1855.840000</td>\n",
       "      <td>4</td>\n",
       "      <td>Express</td>\n",
       "      <td>NaN</td>\n",
       "      <td>0.000000</td>\n",
       "      <td>Completed</td>\n",
       "    </tr>\n",
       "    <tr>\n",
       "      <th>3</th>\n",
       "      <td>41</td>\n",
       "      <td>Male</td>\n",
       "      <td>Yes</td>\n",
       "      <td>Smartphone</td>\n",
       "      <td>2</td>\n",
       "      <td>Cash</td>\n",
       "      <td>3164.760000</td>\n",
       "      <td>4</td>\n",
       "      <td>Overnight</td>\n",
       "      <td>Impulse Item,Impulse Item</td>\n",
       "      <td>60.160000</td>\n",
       "      <td>Completed</td>\n",
       "    </tr>\n",
       "    <tr>\n",
       "      <th>4</th>\n",
       "      <td>75</td>\n",
       "      <td>Male</td>\n",
       "      <td>Yes</td>\n",
       "      <td>Smartphone</td>\n",
       "      <td>5</td>\n",
       "      <td>Cash</td>\n",
       "      <td>41.500000</td>\n",
       "      <td>2</td>\n",
       "      <td>Express</td>\n",
       "      <td>Accessory</td>\n",
       "      <td>35.560000</td>\n",
       "      <td>Completed</td>\n",
       "    </tr>\n",
       "  </tbody>\n",
       "</table>\n",
       "</div>"
      ],
      "text/plain": [
       "   Age Gender Loyalty Member Product Type  Rating Payment Method  Total Price  \\\n",
       "0   53   Male             No   Smartphone       2    Credit Card  5538.330000   \n",
       "1   53   Male             No       Tablet       3         Paypal   741.090000   \n",
       "2   41   Male             No       Laptop       3    Credit Card  1855.840000   \n",
       "3   41   Male            Yes   Smartphone       2           Cash  3164.760000   \n",
       "4   75   Male            Yes   Smartphone       5           Cash    41.500000   \n",
       "\n",
       "   Quantity Shipping Type              Add-ons Purchased  Add-on Total  \\\n",
       "0         7      Standard  Accessory,Accessory,Accessory     40.210000   \n",
       "1         3     Overnight                   Impulse Item     26.090000   \n",
       "2         4       Express                            NaN      0.000000   \n",
       "3         4     Overnight      Impulse Item,Impulse Item     60.160000   \n",
       "4         2       Express                      Accessory     35.560000   \n",
       "\n",
       "  Order Status  \n",
       "0    Cancelled  \n",
       "1    Completed  \n",
       "2    Completed  \n",
       "3    Completed  \n",
       "4    Completed  "
      ]
     },
     "execution_count": 6,
     "metadata": {},
     "output_type": "execute_result"
    }
   ],
   "source": [
    "# drop the column 'Serial No.' using drop()\n",
    "def drop_columns(df_sales) : \n",
    "    cols = ['Customer ID', 'SKU','Purchase Date','Unit Price']\n",
    "    df_sales = df_sales.drop(cols, axis = 1)\n",
    "    return df_sales\n",
    "df_sales = drop_columns(df_sales)\n",
    "df_sales.head()"
   ]
  },
  {
   "cell_type": "markdown",
   "metadata": {},
   "source": [
    "## Outlier Treatment"
   ]
  },
  {
   "cell_type": "code",
   "execution_count": 7,
   "metadata": {},
   "outputs": [
    {
     "data": {
      "image/png": "[encoded data removed]",
      "text/plain": [
       "<Figure size 1500x800 with 1 Axes>"
      ]
     },
     "metadata": {},
     "output_type": "display_data"
    }
   ],
   "source": [
    "# set the plot size using figure()\n",
    "# pass width and height in inches to 'figsize' \n",
    "def outlier_treatment (df_sales) : \n",
    "    plt.figure(figsize = (15,8))\n",
    "\n",
    "    # plot a boxplot to visualize the outliers in all the numeric variables\n",
    "    df_sales.boxplot()\n",
    "\n",
    "    # set plot label\n",
    "    # set text size using 'fontsize'\n",
    "    plt.title('Distribution of all Numeric Variables', fontsize = 15)\n",
    "\n",
    "    # xticks() returns the x-axis ticks\n",
    "    # 'rotation = vertical' rotates the x-axis labels vertically\n",
    "    plt.xticks(rotation = 'vertical', fontsize = 15)\n",
    "\n",
    "    # display the plot\n",
    "    plt.show()\n",
    "\n",
    "outlier_treatment (df_sales)\n"
   ]
  },
  {
   "cell_type": "code",
   "execution_count": 8,
   "metadata": {},
   "outputs": [
    {
     "data": {
      "text/html": [
       "<div>\n",
       "<style scoped>\n",
       "    .dataframe tbody tr th:only-of-type {\n",
       "        vertical-align: middle;\n",
       "    }\n",
       "\n",
       "    .dataframe tbody tr th {\n",
       "        vertical-align: top;\n",
       "    }\n",
       "\n",
       "    .dataframe thead th {\n",
       "        text-align: right;\n",
       "    }\n",
       "</style>\n",
       "<table border=\"1\" class=\"dataframe\">\n",
       "  <thead>\n",
       "    <tr style=\"text-align: right;\">\n",
       "      <th></th>\n",
       "      <th>count</th>\n",
       "      <th>mean</th>\n",
       "      <th>std</th>\n",
       "      <th>min</th>\n",
       "      <th>25%</th>\n",
       "      <th>50%</th>\n",
       "      <th>75%</th>\n",
       "      <th>max</th>\n",
       "    </tr>\n",
       "  </thead>\n",
       "  <tbody>\n",
       "    <tr>\n",
       "      <th>Age</th>\n",
       "      <td>20000.000000</td>\n",
       "      <td>48.994100</td>\n",
       "      <td>18.038745</td>\n",
       "      <td>18.000000</td>\n",
       "      <td>33.000000</td>\n",
       "      <td>49.000000</td>\n",
       "      <td>65.000000</td>\n",
       "      <td>80.000000</td>\n",
       "    </tr>\n",
       "    <tr>\n",
       "      <th>Rating</th>\n",
       "      <td>20000.000000</td>\n",
       "      <td>3.093950</td>\n",
       "      <td>1.223764</td>\n",
       "      <td>1.000000</td>\n",
       "      <td>2.000000</td>\n",
       "      <td>3.000000</td>\n",
       "      <td>4.000000</td>\n",
       "      <td>5.000000</td>\n",
       "    </tr>\n",
       "    <tr>\n",
       "      <th>Total Price</th>\n",
       "      <td>20000.000000</td>\n",
       "      <td>3180.133419</td>\n",
       "      <td>2544.978675</td>\n",
       "      <td>20.750000</td>\n",
       "      <td>1139.680000</td>\n",
       "      <td>2534.490000</td>\n",
       "      <td>4639.600000</td>\n",
       "      <td>11396.800000</td>\n",
       "    </tr>\n",
       "    <tr>\n",
       "      <th>Quantity</th>\n",
       "      <td>20000.000000</td>\n",
       "      <td>5.485550</td>\n",
       "      <td>2.870854</td>\n",
       "      <td>1.000000</td>\n",
       "      <td>3.000000</td>\n",
       "      <td>5.000000</td>\n",
       "      <td>8.000000</td>\n",
       "      <td>10.000000</td>\n",
       "    </tr>\n",
       "    <tr>\n",
       "      <th>Add-on Total</th>\n",
       "      <td>20000.000000</td>\n",
       "      <td>62.244848</td>\n",
       "      <td>58.058431</td>\n",
       "      <td>0.000000</td>\n",
       "      <td>7.615000</td>\n",
       "      <td>51.700000</td>\n",
       "      <td>93.842500</td>\n",
       "      <td>292.770000</td>\n",
       "    </tr>\n",
       "  </tbody>\n",
       "</table>\n",
       "</div>"
      ],
      "text/plain": [
       "                    count        mean         std       min         25%  \\\n",
       "Age          20000.000000   48.994100   18.038745 18.000000   33.000000   \n",
       "Rating       20000.000000    3.093950    1.223764  1.000000    2.000000   \n",
       "Total Price  20000.000000 3180.133419 2544.978675 20.750000 1139.680000   \n",
       "Quantity     20000.000000    5.485550    2.870854  1.000000    3.000000   \n",
       "Add-on Total 20000.000000   62.244848   58.058431  0.000000    7.615000   \n",
       "\n",
       "                     50%         75%          max  \n",
       "Age            49.000000   65.000000    80.000000  \n",
       "Rating          3.000000    4.000000     5.000000  \n",
       "Total Price  2534.490000 4639.600000 11396.800000  \n",
       "Quantity        5.000000    8.000000    10.000000  \n",
       "Add-on Total   51.700000   93.842500   292.770000  "
      ]
     },
     "execution_count": 8,
     "metadata": {},
     "output_type": "execute_result"
    }
   ],
   "source": [
    "def transpose_1(df_sales): \n",
    "    df = df_sales.describe().transpose()\n",
    "    return df\n",
    "trans_1 = transpose_1(df_sales)\n",
    "trans_1"
   ]
  },
  {
   "cell_type": "code",
   "execution_count": 9,
   "metadata": {},
   "outputs": [
    {
     "data": {
      "text/html": [
       "<div>\n",
       "<style scoped>\n",
       "    .dataframe tbody tr th:only-of-type {\n",
       "        vertical-align: middle;\n",
       "    }\n",
       "\n",
       "    .dataframe tbody tr th {\n",
       "        vertical-align: top;\n",
       "    }\n",
       "\n",
       "    .dataframe thead th {\n",
       "        text-align: right;\n",
       "    }\n",
       "</style>\n",
       "<table border=\"1\" class=\"dataframe\">\n",
       "  <thead>\n",
       "    <tr style=\"text-align: right;\">\n",
       "      <th></th>\n",
       "      <th>Age</th>\n",
       "      <th>Gender</th>\n",
       "      <th>Loyalty Member</th>\n",
       "      <th>Product Type</th>\n",
       "      <th>Rating</th>\n",
       "      <th>Payment Method</th>\n",
       "      <th>Total Price</th>\n",
       "      <th>Quantity</th>\n",
       "      <th>Shipping Type</th>\n",
       "      <th>Add-ons Purchased</th>\n",
       "      <th>Add-on Total</th>\n",
       "      <th>Order Status</th>\n",
       "    </tr>\n",
       "  </thead>\n",
       "  <tbody>\n",
       "    <tr>\n",
       "      <th>0</th>\n",
       "      <td>53.000000</td>\n",
       "      <td>Male</td>\n",
       "      <td>No</td>\n",
       "      <td>Smartphone</td>\n",
       "      <td>2.000000</td>\n",
       "      <td>Credit Card</td>\n",
       "      <td>5538.330000</td>\n",
       "      <td>7.000000</td>\n",
       "      <td>Standard</td>\n",
       "      <td>Accessory,Accessory,Accessory</td>\n",
       "      <td>40.210000</td>\n",
       "      <td>Cancelled</td>\n",
       "    </tr>\n",
       "    <tr>\n",
       "      <th>1</th>\n",
       "      <td>53.000000</td>\n",
       "      <td>Male</td>\n",
       "      <td>No</td>\n",
       "      <td>Tablet</td>\n",
       "      <td>3.000000</td>\n",
       "      <td>Paypal</td>\n",
       "      <td>741.090000</td>\n",
       "      <td>3.000000</td>\n",
       "      <td>Overnight</td>\n",
       "      <td>Impulse Item</td>\n",
       "      <td>26.090000</td>\n",
       "      <td>Completed</td>\n",
       "    </tr>\n",
       "    <tr>\n",
       "      <th>2</th>\n",
       "      <td>41.000000</td>\n",
       "      <td>Male</td>\n",
       "      <td>No</td>\n",
       "      <td>Laptop</td>\n",
       "      <td>3.000000</td>\n",
       "      <td>Credit Card</td>\n",
       "      <td>1855.840000</td>\n",
       "      <td>4.000000</td>\n",
       "      <td>Express</td>\n",
       "      <td>NaN</td>\n",
       "      <td>0.000000</td>\n",
       "      <td>Completed</td>\n",
       "    </tr>\n",
       "    <tr>\n",
       "      <th>3</th>\n",
       "      <td>41.000000</td>\n",
       "      <td>Male</td>\n",
       "      <td>Yes</td>\n",
       "      <td>Smartphone</td>\n",
       "      <td>2.000000</td>\n",
       "      <td>Cash</td>\n",
       "      <td>3164.760000</td>\n",
       "      <td>4.000000</td>\n",
       "      <td>Overnight</td>\n",
       "      <td>Impulse Item,Impulse Item</td>\n",
       "      <td>60.160000</td>\n",
       "      <td>Completed</td>\n",
       "    </tr>\n",
       "    <tr>\n",
       "      <th>4</th>\n",
       "      <td>75.000000</td>\n",
       "      <td>Male</td>\n",
       "      <td>Yes</td>\n",
       "      <td>Smartphone</td>\n",
       "      <td>5.000000</td>\n",
       "      <td>Cash</td>\n",
       "      <td>41.500000</td>\n",
       "      <td>2.000000</td>\n",
       "      <td>Express</td>\n",
       "      <td>Accessory</td>\n",
       "      <td>35.560000</td>\n",
       "      <td>Completed</td>\n",
       "    </tr>\n",
       "  </tbody>\n",
       "</table>\n",
       "</div>"
      ],
      "text/plain": [
       "        Age Gender Loyalty Member Product Type   Rating Payment Method  \\\n",
       "0 53.000000   Male             No   Smartphone 2.000000    Credit Card   \n",
       "1 53.000000   Male             No       Tablet 3.000000         Paypal   \n",
       "2 41.000000   Male             No       Laptop 3.000000    Credit Card   \n",
       "3 41.000000   Male            Yes   Smartphone 2.000000           Cash   \n",
       "4 75.000000   Male            Yes   Smartphone 5.000000           Cash   \n",
       "\n",
       "   Total Price  Quantity Shipping Type              Add-ons Purchased  \\\n",
       "0  5538.330000  7.000000      Standard  Accessory,Accessory,Accessory   \n",
       "1   741.090000  3.000000     Overnight                   Impulse Item   \n",
       "2  1855.840000  4.000000       Express                            NaN   \n",
       "3  3164.760000  4.000000     Overnight      Impulse Item,Impulse Item   \n",
       "4    41.500000  2.000000       Express                      Accessory   \n",
       "\n",
       "   Add-on Total Order Status  \n",
       "0     40.210000    Cancelled  \n",
       "1     26.090000    Completed  \n",
       "2      0.000000    Completed  \n",
       "3     60.160000    Completed  \n",
       "4     35.560000    Completed  "
      ]
     },
     "execution_count": 9,
     "metadata": {},
     "output_type": "execute_result"
    }
   ],
   "source": [
    "# Outlier treatment function\n",
    "def treat_outliers_iqr(df, columns):\n",
    "    \"\"\"\n",
    "    Treats outliers in specified columns of a DataFrame using the IQR method.\n",
    "\n",
    "    Args:\n",
    "        df (pd.DataFrame): The input DataFrame.\n",
    "        columns (list): A list of column names to treat outliers in.\n",
    "\n",
    "    Returns:\n",
    "        pd.DataFrame: The DataFrame with outliers treated.\n",
    "    \"\"\"\n",
    "    df_treated = df.copy()\n",
    "    for col in columns:\n",
    "        Q1 = df_treated[col].quantile(0.25)\n",
    "        Q3 = df_treated[col].quantile(0.75)\n",
    "        IQR = Q3 - Q1\n",
    "        lower_bound = Q1 - 1.5 * IQR\n",
    "        upper_bound = Q3 + 1.5 * IQR\n",
    "        \n",
    "        df_treated[col] = np.where(df_treated[col] < lower_bound, lower_bound, df_treated[col])\n",
    "        df_treated[col] = np.where(df_treated[col] > upper_bound, upper_bound, df_treated[col])\n",
    "    return df_treated\n",
    "columns_to_treat = df_sales.select_dtypes(include='number').columns\n",
    "df_treated = treat_outliers_iqr(df_sales, columns_to_treat)\n",
    "df_treated.head()"
   ]
  },
  {
   "cell_type": "code",
   "execution_count": 10,
   "metadata": {},
   "outputs": [
    {
     "data": {
      "text/html": [
       "<div>\n",
       "<style scoped>\n",
       "    .dataframe tbody tr th:only-of-type {\n",
       "        vertical-align: middle;\n",
       "    }\n",
       "\n",
       "    .dataframe tbody tr th {\n",
       "        vertical-align: top;\n",
       "    }\n",
       "\n",
       "    .dataframe thead th {\n",
       "        text-align: right;\n",
       "    }\n",
       "</style>\n",
       "<table border=\"1\" class=\"dataframe\">\n",
       "  <thead>\n",
       "    <tr style=\"text-align: right;\">\n",
       "      <th></th>\n",
       "      <th>count</th>\n",
       "      <th>mean</th>\n",
       "      <th>std</th>\n",
       "      <th>min</th>\n",
       "      <th>25%</th>\n",
       "      <th>50%</th>\n",
       "      <th>75%</th>\n",
       "      <th>max</th>\n",
       "    </tr>\n",
       "  </thead>\n",
       "  <tbody>\n",
       "    <tr>\n",
       "      <th>Age</th>\n",
       "      <td>20000.000000</td>\n",
       "      <td>48.994100</td>\n",
       "      <td>18.038745</td>\n",
       "      <td>18.000000</td>\n",
       "      <td>33.000000</td>\n",
       "      <td>49.000000</td>\n",
       "      <td>65.000000</td>\n",
       "      <td>80.000000</td>\n",
       "    </tr>\n",
       "    <tr>\n",
       "      <th>Rating</th>\n",
       "      <td>20000.000000</td>\n",
       "      <td>3.093950</td>\n",
       "      <td>1.223764</td>\n",
       "      <td>1.000000</td>\n",
       "      <td>2.000000</td>\n",
       "      <td>3.000000</td>\n",
       "      <td>4.000000</td>\n",
       "      <td>5.000000</td>\n",
       "    </tr>\n",
       "    <tr>\n",
       "      <th>Total Price</th>\n",
       "      <td>20000.000000</td>\n",
       "      <td>3180.133419</td>\n",
       "      <td>2544.978675</td>\n",
       "      <td>20.750000</td>\n",
       "      <td>1139.680000</td>\n",
       "      <td>2534.490000</td>\n",
       "      <td>4639.600000</td>\n",
       "      <td>11396.800000</td>\n",
       "    </tr>\n",
       "    <tr>\n",
       "      <th>Quantity</th>\n",
       "      <td>20000.000000</td>\n",
       "      <td>5.485550</td>\n",
       "      <td>2.870854</td>\n",
       "      <td>1.000000</td>\n",
       "      <td>3.000000</td>\n",
       "      <td>5.000000</td>\n",
       "      <td>8.000000</td>\n",
       "      <td>10.000000</td>\n",
       "    </tr>\n",
       "    <tr>\n",
       "      <th>Add-on Total</th>\n",
       "      <td>20000.000000</td>\n",
       "      <td>62.244848</td>\n",
       "      <td>58.058431</td>\n",
       "      <td>0.000000</td>\n",
       "      <td>7.615000</td>\n",
       "      <td>51.700000</td>\n",
       "      <td>93.842500</td>\n",
       "      <td>292.770000</td>\n",
       "    </tr>\n",
       "  </tbody>\n",
       "</table>\n",
       "</div>"
      ],
      "text/plain": [
       "                    count        mean         std       min         25%  \\\n",
       "Age          20000.000000   48.994100   18.038745 18.000000   33.000000   \n",
       "Rating       20000.000000    3.093950    1.223764  1.000000    2.000000   \n",
       "Total Price  20000.000000 3180.133419 2544.978675 20.750000 1139.680000   \n",
       "Quantity     20000.000000    5.485550    2.870854  1.000000    3.000000   \n",
       "Add-on Total 20000.000000   62.244848   58.058431  0.000000    7.615000   \n",
       "\n",
       "                     50%         75%          max  \n",
       "Age            49.000000   65.000000    80.000000  \n",
       "Rating          3.000000    4.000000     5.000000  \n",
       "Total Price  2534.490000 4639.600000 11396.800000  \n",
       "Quantity        5.000000    8.000000    10.000000  \n",
       "Add-on Total   51.700000   93.842500   292.770000  "
      ]
     },
     "execution_count": 10,
     "metadata": {},
     "output_type": "execute_result"
    }
   ],
   "source": [
    "def transpose_2(df_treated): \n",
    "    df = df_sales.describe().transpose()\n",
    "    return df\n",
    "trans_2 = transpose_2(df_sales)\n",
    "trans_2"
   ]
  },
  {
   "cell_type": "markdown",
   "metadata": {},
   "source": [
    "## Missing Value Treatment"
   ]
  },
  {
   "cell_type": "code",
   "execution_count": 11,
   "metadata": {},
   "outputs": [
    {
     "data": {
      "text/plain": [
       "Add-ons Purchased    4868\n",
       "Gender                  1\n",
       "Age                     0\n",
       "Loyalty Member          0\n",
       "Product Type            0\n",
       "Rating                  0\n",
       "Payment Method          0\n",
       "Total Price             0\n",
       "Quantity                0\n",
       "Shipping Type           0\n",
       "Add-on Total            0\n",
       "Order Status            0\n",
       "dtype: int64"
      ]
     },
     "execution_count": 11,
     "metadata": {},
     "output_type": "execute_result"
    }
   ],
   "source": [
    "def missing_value (df_treated):\n",
    "    df_treated = df_treated.isnull().sum().sort_values(ascending=False) \n",
    "    #df_treated_1 = df_treated.dropna(subset=['Gender'])\n",
    "    #df_treated_1 = df_treated_1.isnull().sum().sort_values(ascending=False) \n",
    "    return df_treated\n",
    "\n",
    "missing_value (df_treated)\n",
    "#Percent = (df_treated.isnull().sum()*100/df_treated.isnull().count()).sort_values(ascending=False)  "
   ]
  },
  {
   "cell_type": "code",
   "execution_count": 16,
   "metadata": {},
   "outputs": [
    {
     "data": {
      "text/plain": [
       "Add-ons Purchased    4867\n",
       "Age                     0\n",
       "Gender                  0\n",
       "Loyalty Member          0\n",
       "Product Type            0\n",
       "Rating                  0\n",
       "Payment Method          0\n",
       "Total Price             0\n",
       "Quantity                0\n",
       "Shipping Type           0\n",
       "Add-on Total            0\n",
       "Order Status            0\n",
       "dtype: int64"
      ]
     },
     "execution_count": 16,
     "metadata": {},
     "output_type": "execute_result"
    }
   ],
   "source": [
    "#Removing missing value row by Gender \n",
    "def remove_value(df_treated):\n",
    "    df_treated_1 = df_treated.dropna(subset=['Gender'])\n",
    "    df = df_treated_1.isnull().sum().sort_values(ascending=False)   \n",
    "    return df\n",
    "remove_value(df_treated)"
   ]
  },
  {
   "cell_type": "markdown",
   "metadata": {},
   "source": [
    "## Corelation heatmap for numeric variables"
   ]
  },
  {
   "cell_type": "code",
   "execution_count": 14,
   "metadata": {},
   "outputs": [
    {
     "ename": "AttributeError",
     "evalue": "'numpy.int64' object has no attribute 'select_dtypes'",
     "output_type": "error",
     "traceback": [
      "\u001b[0;31m---------------------------------------------------------------------------\u001b[0m",
      "\u001b[0;31mAttributeError\u001b[0m                            Traceback (most recent call last)",
      "Cell \u001b[0;32mIn[14], line 2\u001b[0m\n\u001b[1;32m      1\u001b[0m df_treated_1 \u001b[38;5;241m=\u001b[39m missing_value(df_treated)[\u001b[38;5;241m1\u001b[39m]\n\u001b[0;32m----> 2\u001b[0m corr_matrix \u001b[38;5;241m=\u001b[39m df_treated_1\u001b[38;5;241m.\u001b[39mselect_dtypes(include\u001b[38;5;241m=\u001b[39m\u001b[38;5;124m'\u001b[39m\u001b[38;5;124mnumber\u001b[39m\u001b[38;5;124m'\u001b[39m)\u001b[38;5;241m.\u001b[39mcorr()\n",
      "\u001b[0;31mAttributeError\u001b[0m: 'numpy.int64' object has no attribute 'select_dtypes'"
     ]
    }
   ],
   "source": [
    "df_treated_1 = missing_value(df_treated)[1]\n",
    "corr_matrix = df_treated_1.select_dtypes(include='number').corr()"
   ]
  },
  {
   "cell_type": "code",
   "execution_count": null,
   "metadata": {
    "scrolled": true
   },
   "outputs": [],
   "source": [
    " sns.heatmap(corr_matrix, annot=True, cmap='coolwarm')\n",
    " plt.show()"
   ]
  },
  {
   "cell_type": "code",
   "execution_count": null,
   "metadata": {},
   "outputs": [],
   "source": [
    "## Target Variable - convert to numeric"
   ]
  },
  {
   "cell_type": "code",
   "execution_count": null,
   "metadata": {},
   "outputs": [],
   "source": [
    "df_treated_1['Order Status'] = df_treated_1['Order Status'].apply(lambda x: 1 if x == 'Completed' else 0 if x == 'Cancelled' else None)"
   ]
  },
  {
   "cell_type": "code",
   "execution_count": null,
   "metadata": {},
   "outputs": [],
   "source": [
    "df_treated_1['Add-ons Purchased'] = df_treated_1['Add-ons Purchased'].apply(lambda x: 0 if x == np.nan else 1 )"
   ]
  },
  {
   "cell_type": "code",
   "execution_count": null,
   "metadata": {},
   "outputs": [],
   "source": [
    "print(df_treated_1['Order Status'].value_counts())\n",
    "\n",
    "print(df_treated_1['Order Status'].value_counts(normalize = True))"
   ]
  },
  {
   "cell_type": "code",
   "execution_count": null,
   "metadata": {},
   "outputs": [],
   "source": [
    "## Dividing data into train and test"
   ]
  },
  {
   "cell_type": "code",
   "execution_count": null,
   "metadata": {},
   "outputs": [],
   "source": [
    "df_treated_1.drop('Order Status', axis=1).columns"
   ]
  },
  {
   "cell_type": "code",
   "execution_count": null,
   "metadata": {},
   "outputs": [],
   "source": [
    "from sklearn.model_selection import train_test_split\n",
    "\n",
    "# Separate features (X) and target (y)\n",
    "X = df_treated_1.drop('Order Status', axis=1)\n",
    "y = df_treated_1['Order Status']\n",
    "\n",
    "# Perform the stratified train-test split\n",
    "X_train, X_test, y_train, y_test = train_test_split(X, y, test_size=0.2, random_state=2025, stratify=y)\n"
   ]
  },
  {
   "cell_type": "code",
   "execution_count": null,
   "metadata": {},
   "outputs": [],
   "source": [
    "X_train.head()"
   ]
  },
  {
   "cell_type": "markdown",
   "metadata": {},
   "source": [
    "## Label Encoding,One hot encoding and scaling\n"
   ]
  },
  {
   "cell_type": "code",
   "execution_count": null,
   "metadata": {},
   "outputs": [],
   "source": []
  },
  {
   "cell_type": "code",
   "execution_count": null,
   "metadata": {},
   "outputs": [],
   "source": [
    "X_train.columns"
   ]
  },
  {
   "cell_type": "code",
   "execution_count": null,
   "metadata": {},
   "outputs": [],
   "source": [
    "df_encoded = pd.get_dummies(X_train, columns=['Gender', 'Loyalty Member', 'Product Type','Payment Method','Shipping Type'], drop_first=True)"
   ]
  },
  {
   "cell_type": "code",
   "execution_count": null,
   "metadata": {},
   "outputs": [],
   "source": [
    "df_encoded = pd.get_dummies(df_encoded).astype(int)"
   ]
  },
  {
   "cell_type": "code",
   "execution_count": null,
   "metadata": {},
   "outputs": [],
   "source": [
    "df_encoded_1 = pd.get_dummies(X_test, columns=['Gender', 'Loyalty Member', 'Product Type','Payment Method','Shipping Type'], drop_first=True)"
   ]
  },
  {
   "cell_type": "code",
   "execution_count": null,
   "metadata": {},
   "outputs": [],
   "source": [
    "df_encoded_1 = pd.get_dummies(df_encoded_1).astype(int)"
   ]
  },
  {
   "cell_type": "code",
   "execution_count": null,
   "metadata": {},
   "outputs": [],
   "source": [
    "print(df_encoded.head())"
   ]
  },
  {
   "cell_type": "code",
   "execution_count": null,
   "metadata": {},
   "outputs": [],
   "source": [
    "# List of numerical columns to scale\n",
    "num_cols = ['Age', 'Rating', 'Total Price', 'Quantity', 'Add-on Total']\n",
    "\n",
    "# Initialize and fit scaler only on training data\n",
    "scaler = StandardScaler()\n",
    "scaler.fit(df_encoded[num_cols])\n",
    "\n",
    "# Transform both training and test data\n",
    "X_train_scaled = scaler.transform(df_encoded[num_cols])\n",
    "X_test_scaled = scaler.transform(df_encoded_1[num_cols])\n",
    "\n",
    "# Replace the scaled columns in the original DataFrames\n",
    "X_scaled_train = df_encoded.copy()\n",
    "X_scaled_train[num_cols] = X_train_scaled\n",
    "\n",
    "X_scaled_test = df_encoded_1.copy()\n",
    "X_scaled_test[num_cols] = X_test_scaled\n",
    "\n",
    "# Display head\n",
    "print(X_scaled_train.head())\n",
    "print(X_scaled_test.head())"
   ]
  },
  {
   "cell_type": "code",
   "execution_count": null,
   "metadata": {},
   "outputs": [],
   "source": [
    "# build the model on train data (X_train and y_train)\n",
    "# use fit() to fit the logistic regression model\n",
    "logreg = sm.Logit(y_train, X_scaled_train).fit()\n",
    "\n",
    "# print the summary of the model\n",
    "print(logreg.summary())"
   ]
  },
  {
   "cell_type": "code",
   "execution_count": null,
   "metadata": {},
   "outputs": [],
   "source": [
    "from sklearn.ensemble import GradientBoostingClassifier\n",
    "# instantiate the 'GradientBoostingClassifier' \n",
    "# n_estimators: number of estimators to consider\n",
    "# 'max_depth': assigns maximum depth of the tree\n",
    "# pass the 'random_state' to obtain the same results for each code implementation\n",
    "gboost_model = GradientBoostingClassifier(n_estimators = 100, max_depth = 10, random_state = 10)\n",
    "\n",
    "# fit the model using fit() on train data\n",
    "gboost=gboost_model.fit(X_scaled_train, y_train)"
   ]
  },
  {
   "cell_type": "code",
   "execution_count": null,
   "metadata": {},
   "outputs": [],
   "source": [
    "pred = gboost_model.predict(X_scaled_test)\n",
    "pred\n"
   ]
  },
  {
   "cell_type": "code",
   "execution_count": null,
   "metadata": {},
   "outputs": [],
   "source": [
    "np.set_printoptions(suppress=True) \n",
    "pred_proba = gboost_model.predict_proba(X_scaled_test)\n",
    "pred_proba"
   ]
  },
  {
   "cell_type": "code",
   "execution_count": null,
   "metadata": {},
   "outputs": [],
   "source": [
    "T1 = pd.DataFrame({'Actuals':y_test,'Predicted':pred_proba[:, 1]})\n",
    "\n",
    "T1['Decile'] = pd.qcut(T1['Predicted'], 10, labels=False)\n",
    "\n",
    "\n",
    "\n",
    "print(T1)"
   ]
  },
  {
   "cell_type": "code",
   "execution_count": null,
   "metadata": {},
   "outputs": [],
   "source": [
    "pip install pandasql"
   ]
  },
  {
   "cell_type": "code",
   "execution_count": null,
   "metadata": {},
   "outputs": [],
   "source": [
    "from pandasql import sqldf\n",
    "query = \"\"\" Select decile,count(Actuals) , sum(Actuals) as Events, max(Predicted)as max_prob, min(Predicted) as min_Prob from T1 group by decile order by decile desc\"\"\"\n",
    "gains = sqldf(query)\n",
    "\n",
    "gains"
   ]
  },
  {
   "cell_type": "code",
   "execution_count": null,
   "metadata": {},
   "outputs": [],
   "source": [
    "from sklearn.metrics import ConfusionMatrixDisplay\n",
    "import matplotlib.pyplot as plt\n",
    "\n",
    "# Assuming you have a trained model, test features, and true labels\n",
    "ConfusionMatrixDisplay.from_estimator(\n",
    "    gboost_model,\n",
    "    X_scaled_test,\n",
    "    y_test,\n",
    "    cmap='Blues',\n",
    "    normalize=None  # or 'true', 'pred', or 'all'\n",
    ")\n",
    "plt.title(\"Confusion Matrix\")\n",
    "plt.show()"
   ]
  },
  {
   "cell_type": "code",
   "execution_count": null,
   "metadata": {},
   "outputs": [],
   "source": [
    "from sklearn.metrics import classification_report\n",
    "\n",
    "# Assuming gboost_model is trained and you have predictions:\n",
    "y_pred = gboost_model.predict(X_scaled_test)\n",
    "\n",
    "# Print the classification report\n",
    "print(classification_report(y_test, y_pred))"
   ]
  },
  {
   "cell_type": "code",
   "execution_count": null,
   "metadata": {},
   "outputs": [],
   "source": [
    "important_features = pd.DataFrame({'Features': X_scaled_train.columns, \n",
    "                                   'Importance': gboost_model.feature_importances_})\n",
    "\n",
    "# sort the dataframe in the descending order according to the feature importance\n",
    "important_features = important_features.sort_values('Importance', ascending = False)\n",
    "print(important_features)\n"
   ]
  },
  {
   "cell_type": "code",
   "execution_count": null,
   "metadata": {},
   "outputs": [],
   "source": [
    "sns.boxplot(x='Order Status', y='Age', data=df_treated_1)\n",
    "plt.title(\"Box Plot of Order Status v Age\")\n",
    "plt.show()"
   ]
  },
  {
   "cell_type": "code",
   "execution_count": null,
   "metadata": {},
   "outputs": [],
   "source": [
    "sns.boxplot(x='Order Status', y='Add-on Total', data=df_treated_1)\n",
    "plt.title(\"Box Plot of Order Status v Age\")\n",
    "plt.show()"
   ]
  },
  {
   "cell_type": "code",
   "execution_count": null,
   "metadata": {},
   "outputs": [],
   "source": [
    "sns.boxplot(x='Order Status', y='Total Price', data=df_treated_1)\n",
    "plt.title(\"Box Plot of Order Status v Age\")\n",
    "plt.show()"
   ]
  },
  {
   "cell_type": "code",
   "execution_count": null,
   "metadata": {},
   "outputs": [],
   "source": [
    "sns.boxplot(x='Order Status', y='Quantity', data=df_treated_1)\n",
    "plt.title(\"Box Plot of Order Status v Age\")\n",
    "plt.show()"
   ]
  },
  {
   "cell_type": "code",
   "execution_count": null,
   "metadata": {},
   "outputs": [],
   "source": [
    "sns.boxplot(x='Order Status', y='Rating', data=df_treated_1)\n",
    "plt.title(\"Box Plot of Order Status v Age\")\n",
    "plt.show()"
   ]
  }
 ],
 "metadata": {
  "kernelspec": {
   "display_name": "Python 3 (ipykernel)",
   "language": "python",
   "name": "python3"
  },
  "language_info": {
   "codemirror_mode": {
    "name": "ipython",
    "version": 3
   },
   "file_extension": ".py",
   "mimetype": "text/x-python",
   "name": "python",
   "nbconvert_exporter": "python",
   "pygments_lexer": "ipython3",
   "version": "3.11.3"
  }
 },
 "nbformat": 4,
 "nbformat_minor": 4
}
